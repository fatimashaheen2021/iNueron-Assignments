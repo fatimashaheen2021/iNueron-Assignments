{
 "cells": [
  {
   "cell_type": "markdown",
   "metadata": {},
   "source": [
    "# Python Assignment 1- ML & DL Course"
   ]
  },
  {
   "cell_type": "code",
   "execution_count": 3,
   "metadata": {},
   "outputs": [
    {
     "name": "stdout",
     "output_type": "stream",
     "text": [
      "Please Enter the Radius of a Sphere: 5\n",
      "\n",
      " The Surface area of a Sphere = 314.00\n",
      "\n",
      " The Volume of a Sphere = 523.33\n"
     ]
    }
   ],
   "source": [
    "## Python Program to find Volume and Surface Area of Sphere\n",
    "## Formula: V=4/3 * π * r 3\n",
    "\n",
    "PI = 3.14\n",
    "radius = float(input('Please Enter the Radius of a Sphere: '))\n",
    "sa =  4 * PI * radius * radius\n",
    "Volume = (4 / 3) * PI * radius * radius * radius\n",
    " \n",
    "print(\"\\n The Surface area of a Sphere = %.2f\" %sa)\n",
    "print(\"\\n The Volume of a Sphere = %.2f\" %Volume)"
   ]
  },
  {
   "cell_type": "code",
   "execution_count": 2,
   "metadata": {},
   "outputs": [
    {
     "name": "stdout",
     "output_type": "stream",
     "text": [
      "Fatima : 34\n",
      "S : 23\n",
      "Hello  23 34\n"
     ]
    }
   ],
   "source": [
    "fname = input(\"Fatima : \")\n",
    "lname = input(\"S : \")\n",
    "print (\"Hello  \" + lname + \" \" + fname)"
   ]
  },
  {
   "cell_type": "code",
   "execution_count": 1,
   "metadata": {},
   "outputs": [
    {
     "data": {
      "text/plain": [
       "'C:\\\\Users\\\\Fatima Shaheen'"
      ]
     },
     "execution_count": 1,
     "metadata": {},
     "output_type": "execute_result"
    }
   ],
   "source": [
    "pwd"
   ]
  },
  {
   "cell_type": "code",
   "execution_count": null,
   "metadata": {},
   "outputs": [],
   "source": []
  }
 ],
 "metadata": {
  "kernelspec": {
   "display_name": "Python 3",
   "language": "python",
   "name": "python3"
  },
  "language_info": {
   "codemirror_mode": {
    "name": "ipython",
    "version": 3
   },
   "file_extension": ".py",
   "mimetype": "text/x-python",
   "name": "python",
   "nbconvert_exporter": "python",
   "pygments_lexer": "ipython3",
   "version": "3.6.5"
  }
 },
 "nbformat": 4,
 "nbformat_minor": 2
}
